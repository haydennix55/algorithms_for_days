{
 "cells": [
  {
   "cell_type": "markdown",
   "metadata": {},
   "source": [
    "### Sorting Functions"
   ]
  },
  {
   "cell_type": "markdown",
   "metadata": {},
   "source": [
    "***\n",
    "##### Merge Sort"
   ]
  },
  {
   "cell_type": "markdown",
   "metadata": {},
   "source": [
    "Merge sort always runs in O(n log n). Merge sort uses more space than quick sort since it does not occur in place (you merge into a new structure. The biggest benefit of merge sort is that it can be partitioned and used for external sorting when the data doesn't fit into memory:\n",
    "* Break the data into RAM-sized runs\n",
    "* Sort the runs seperately in memory\n",
    "* Merge runs together and write to memory"
   ]
  },
  {
   "cell_type": "code",
   "execution_count": 50,
   "metadata": {},
   "outputs": [],
   "source": [
    "# 1. If the list is a singleton, return.\n",
    "# 2. Else: Call mergesort on the left and right halfs of the list and return the two merged\n",
    "\n",
    "def mergeSort(arr):\n",
    "    if len(arr) == 1:\n",
    "        return arr\n",
    "    mid = int(len(arr)/2)\n",
    "    \n",
    "    left = mergeSort(arr[0:mid])\n",
    "    right = mergeSort(arr[mid:])\n",
    "    \n",
    "    return merge(left, right)\n",
    "\n",
    "def merge(left, right):\n",
    "    l_i, r_i = 0,0\n",
    "    merged = []\n",
    "    while l_i < len(left) and r_i < len(right):\n",
    "        if left[l_i] <= right[r_i]:\n",
    "            merged.append(left[l_i])\n",
    "            l_i += 1\n",
    "        else:\n",
    "            merged.append(right[r_i])\n",
    "            r_i += 1\n",
    "            \n",
    "    if l_i < len(left):\n",
    "        merged = merged + left[l_i:]\n",
    "    else:\n",
    "        merged = merged + right[r_i:]\n",
    "        \n",
    "    return merged"
   ]
  },
  {
   "cell_type": "code",
   "execution_count": 51,
   "metadata": {},
   "outputs": [
    {
     "name": "stdout",
     "output_type": "stream",
     "text": [
      "[12, 15, 11, 20, 10, 4, 8, 14, 1, 19, 18, 3, 2, 13, 16, 6, 9, 5, 17, 7]\n",
      "[1, 2, 3, 4, 5, 6, 7, 8, 9, 10, 11, 12, 13, 14, 15, 16, 17, 18, 19, 20]\n"
     ]
    }
   ],
   "source": [
    "arr = [12, 15, 11, 20, 10, 4, 8, 14, 1, 19, 18, 3, 2, 13, 16, 6, 9, 5, 17, 7]\n",
    "print(arr)\n",
    "print(mergeSort(arr))"
   ]
  },
  {
   "cell_type": "markdown",
   "metadata": {},
   "source": [
    "***\n",
    "##### Quick Sort"
   ]
  },
  {
   "cell_type": "markdown",
   "metadata": {},
   "source": [
    "Quick sort on average runs in O(n log n), but has a worst cast runtime of O(n^2). Quick sort is usually marginally faster than merge sort when the data fits in memory because less swaps occur. Quick sort is also an in place sorting algorithm, so it uses less memory, but can not be used so easily for external sorting."
   ]
  },
  {
   "cell_type": "code",
   "execution_count": 52,
   "metadata": {},
   "outputs": [],
   "source": [
    "# 1. First unsorted index is pivot\n",
    "# 2. Pivot + 1 is stored index. \n",
    "# 3. For pivot + 1 to end of unsorted\n",
    "#    a. if value is less than pivot, swap with stored index, store index += 1\n",
    "# swap pivot with stored index - 1\n",
    "# quick sorted start to stored index - 1 and stored index + 1 to end\n",
    "\n",
    "def quickSort(arr):\n",
    "    return quickSortRec(arr, 0, len(arr) - 1)\n",
    "    \n",
    "def quickSortRec(arr, start, end):\n",
    "    if start < end:\n",
    "        (split, arr) = partition(arr, start, end)\n",
    "        arr = quickSortRec(arr, start, split - 1)\n",
    "        arr = quickSortRec(arr, split + 1, end)\n",
    "    return arr\n",
    "    \n",
    "def partition(arr, start, end):\n",
    "    pivot = start\n",
    "    stored = pivot + 1\n",
    "    for i in range(pivot + 1, end + 1):\n",
    "        if arr[i] < arr[pivot]:\n",
    "            arr[stored], arr[i] = arr[i], arr[stored]\n",
    "            stored += 1\n",
    "    arr[pivot], arr[stored - 1] = arr[stored - 1], arr[pivot]\n",
    "    return (stored-1, arr)"
   ]
  },
  {
   "cell_type": "code",
   "execution_count": 53,
   "metadata": {},
   "outputs": [
    {
     "name": "stdout",
     "output_type": "stream",
     "text": [
      "[12, 15, 11, 20, 10, 4, 8, 14, 1, 19, 18, 3, 2, 13, 16, 6, 9, 5, 17, 7]\n",
      "[1, 2, 3, 4, 5, 6, 7, 8, 9, 10, 11, 12, 13, 14, 15, 16, 17, 18, 19, 20]\n"
     ]
    }
   ],
   "source": [
    "arr = [12, 15, 11, 20, 10, 4, 8, 14, 1, 19, 18, 3, 2, 13, 16, 6, 9, 5, 17, 7]\n",
    "print(arr)\n",
    "print(quickSort(arr))"
   ]
  },
  {
   "cell_type": "code",
   "execution_count": null,
   "metadata": {},
   "outputs": [],
   "source": []
  }
 ],
 "metadata": {
  "kernelspec": {
   "display_name": "Python 3",
   "language": "python",
   "name": "python3"
  },
  "language_info": {
   "codemirror_mode": {
    "name": "ipython",
    "version": 3
   },
   "file_extension": ".py",
   "mimetype": "text/x-python",
   "name": "python",
   "nbconvert_exporter": "python",
   "pygments_lexer": "ipython3",
   "version": "3.6.6"
  }
 },
 "nbformat": 4,
 "nbformat_minor": 2
}
