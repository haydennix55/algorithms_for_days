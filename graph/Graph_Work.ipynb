{
 "cells": [
  {
   "cell_type": "markdown",
   "metadata": {},
   "source": [
    "### Adjacency List Functions"
   ]
  },
  {
   "cell_type": "markdown",
   "metadata": {},
   "source": [
    "##### Depth First Search for Existence"
   ]
  },
  {
   "cell_type": "code",
   "execution_count": 48,
   "metadata": {},
   "outputs": [],
   "source": [
    "# return True if found\n",
    "def dfs_list(val, graph):\n",
    "    visited = set()\n",
    "    frontier = [next(iter(graph))]\n",
    "    while len(frontier) > 0:\n",
    "        node = frontier.pop()\n",
    "        visited.add(node)\n",
    "        print(\"Visiting node \" + str(node))\n",
    "        if node == val:\n",
    "            return True\n",
    "        else:\n",
    "            for n in graph[node]:\n",
    "                if n not in visited:\n",
    "                    frontier.append(n)\n",
    "    return False"
   ]
  },
  {
   "cell_type": "code",
   "execution_count": null,
   "metadata": {},
   "outputs": [],
   "source": [
    "print(dfs_list(2, graph_adj_list_directed))\n",
    "print(dfs_list(2, graph_adj_list_undirected))\n",
    "print(dfs_list(6, graph_adj_list_directed))"
   ]
  },
  {
   "cell_type": "markdown",
   "metadata": {},
   "source": [
    "##### Breadth First Search for Existence"
   ]
  },
  {
   "cell_type": "code",
   "execution_count": 63,
   "metadata": {},
   "outputs": [],
   "source": [
    "def bfs_list(val, graph):\n",
    "    visited = set()\n",
    "    frontier = Queue()\n",
    "    frontier.put(next(iter(graph)))\n",
    "    while not frontier.empty():\n",
    "        node = frontier.get()\n",
    "        visited.add(node)\n",
    "        print(\"Visiting node \" + str(node))\n",
    "        if node == val:\n",
    "            return True\n",
    "        else:\n",
    "            for n in graph[node]:\n",
    "                if n not in visited:\n",
    "                    frontier.put(n)\n",
    "    return False"
   ]
  },
  {
   "cell_type": "code",
   "execution_count": null,
   "metadata": {},
   "outputs": [],
   "source": [
    "print(bfs_list(2, graph_adj_list_directed))\n",
    "print(bfs_list(2, graph_adj_list_undirected))\n",
    "print(bfs_list(6, graph_adj_list_directed))"
   ]
  },
  {
   "cell_type": "markdown",
   "metadata": {},
   "source": [
    "##### Shortest Path Unweighted"
   ]
  },
  {
   "cell_type": "code",
   "execution_count": 82,
   "metadata": {},
   "outputs": [],
   "source": [
    "def bfs_shortest_path(start, end, graph):\n",
    "    frontier = Queue()\n",
    "    frontier.put(start)\n",
    "    paths = {start: [start]}\n",
    "    while not frontier.empty():\n",
    "        node = frontier.get()\n",
    "        if node == end:\n",
    "            return paths[node]\n",
    "        else:\n",
    "            for n in graph[node]:\n",
    "                if n not in paths:\n",
    "                    paths[n] = paths[node] + [n]\n",
    "                    frontier.put(n)\n",
    "    return None"
   ]
  },
  {
   "cell_type": "code",
   "execution_count": 86,
   "metadata": {},
   "outputs": [
    {
     "name": "stdout",
     "output_type": "stream",
     "text": [
      "[5, 4, 0, 1, 2, 3]\n",
      "[5, 3]\n",
      "None\n"
     ]
    }
   ],
   "source": [
    "print(bfs_shortest_path(5, 3, graph_adj_list_directed))\n",
    "print(bfs_shortest_path(5, 3, graph_adj_list_undirected))\n",
    "print(bfs_shortest_path(0, 6, graph_adj_list_directed))"
   ]
  },
  {
   "cell_type": "markdown",
   "metadata": {},
   "source": [
    "##### Dijkstra's (Shortest Path Weighted, SSSP)"
   ]
  },
  {
   "cell_type": "code",
   "execution_count": 113,
   "metadata": {},
   "outputs": [],
   "source": [
    "def dijkstra(source, graph):\n",
    "    if source not in graph:\n",
    "        return None\n",
    "    visited = set()\n",
    "    cost_path = {n: (float(\"inf\"), None) for n in graph}\n",
    "    cost_path[source] = (0, [source])\n",
    "    while len(visited) != len(graph):\n",
    "        min_node = None\n",
    "        min_val = float(\"inf\")\n",
    "        for n in cost_path:\n",
    "            if n not in visited:\n",
    "                if cost_path[n][0] < min_val:\n",
    "                    min_node = n\n",
    "        visited.add(min_node)\n",
    "        for n in graph[min_node]:\n",
    "            if n not in visited:\n",
    "                if cost_path[min_node][0] + graph[min_node][n] < cost_path[n][0]:\n",
    "                    cost_path[n] = (cost_path[min_node][0] + graph[min_node][n], cost_path[min_node][1] + [n])\n",
    "    return cost_path\n",
    "        "
   ]
  },
  {
   "cell_type": "code",
   "execution_count": 115,
   "metadata": {},
   "outputs": [
    {
     "name": "stdout",
     "output_type": "stream",
     "text": [
      "{0: (9, [5, 4, 0]), 1: (14, [5, 4, 0, 1]), 2: (18, [5, 4, 0, 1, 2]), 3: (27, [5, 4, 0, 1, 2, 3]), 4: (8, [5, 4]), 5: (0, [5])}\n",
      "{0: (2, [5, 0]), 1: (16, [5, 3, 2, 1]), 2: (12, [5, 3, 2]), 3: (3, [5, 3]), 4: (8, [5, 4]), 5: (0, [5])}\n"
     ]
    }
   ],
   "source": [
    "print(dijkstra(5, graph_adj_list_directed))\n",
    "print(dijkstra(5, graph_adj_list_undirected))"
   ]
  },
  {
   "cell_type": "markdown",
   "metadata": {},
   "source": [
    "##### Prim's Algorithm (Minimum Spanning Tree)"
   ]
  },
  {
   "cell_type": "code",
   "execution_count": null,
   "metadata": {},
   "outputs": [],
   "source": [
    "# start with some vertex\n",
    "# while spanning tree does not contain all vertices:\n",
    "    # add the closest one to the tree"
   ]
  },
  {
   "cell_type": "markdown",
   "metadata": {},
   "source": [
    "#### Helper Functions"
   ]
  },
  {
   "cell_type": "code",
   "execution_count": 53,
   "metadata": {},
   "outputs": [],
   "source": [
    "from queue import Queue"
   ]
  },
  {
   "cell_type": "code",
   "execution_count": 84,
   "metadata": {},
   "outputs": [],
   "source": [
    "graph_adj_list_directed = {\n",
    "    0: {1: 5, 5: 2},\n",
    "    1: {2: 4},\n",
    "    2: {3: 9},\n",
    "    3: {4: 7, 5: 3},\n",
    "    4: {0: 1},\n",
    "    5: {4: 8}\n",
    "}\n",
    "\n",
    "graph_adj_list_undirected = {\n",
    "    0: {1: 5, 4: 1, 5: 2},\n",
    "    1: {0: 5, 2: 4},\n",
    "    2: {1: 4, 3: 9},\n",
    "    3: {2: 9, 4: 7, 5: 3},\n",
    "    4: {0: 1, 3: 7, 5: 8},\n",
    "    5: {0: 2, 3: 3, 4: 8}\n",
    "}\n",
    "\n",
    "graph_adj_matrix_directed = [[0,5,0,0,0,2],[0,0,4,0,0,0],[0,0,0,9,0,0],[0,0,0,0,7,3],[1,0,0,0,0,0],[0,0,0,0,8,0]]\n",
    "graph_adj_matrix_undirected = [[0,5,0,0,1,2],[5,0,4,0,0,0],[0,4,0,9,0,0],[0,0,9,0,7,3],[1,0,0,7,0,8],[2,0,0,3,8,0]]\n",
    "\n",
    "def checkGraph(adj_list, adj_matrix):\n",
    "    for i in adj_list:\n",
    "        for j in adj_list[i]:\n",
    "            if adj_matrix[i][j] != adj_list[i][j]:\n",
    "                return False\n",
    "    return True"
   ]
  },
  {
   "cell_type": "code",
   "execution_count": 85,
   "metadata": {},
   "outputs": [
    {
     "name": "stdout",
     "output_type": "stream",
     "text": [
      "Directed graphs check: True\n",
      "Undirected graphs check: True\n"
     ]
    }
   ],
   "source": [
    "print(\"Directed graphs check: \" + str(checkGraph(graph_adj_list_directed, graph_adj_matrix_directed)))\n",
    "print(\"Undirected graphs check: \" + str(checkGraph(graph_adj_list_undirected, graph_adj_matrix_undirected)))"
   ]
  },
  {
   "cell_type": "code",
   "execution_count": null,
   "metadata": {},
   "outputs": [],
   "source": []
  }
 ],
 "metadata": {
  "kernelspec": {
   "display_name": "Python 3",
   "language": "python",
   "name": "python3"
  },
  "language_info": {
   "codemirror_mode": {
    "name": "ipython",
    "version": 3
   },
   "file_extension": ".py",
   "mimetype": "text/x-python",
   "name": "python",
   "nbconvert_exporter": "python",
   "pygments_lexer": "ipython3",
   "version": "3.6.6"
  }
 },
 "nbformat": 4,
 "nbformat_minor": 2
}
